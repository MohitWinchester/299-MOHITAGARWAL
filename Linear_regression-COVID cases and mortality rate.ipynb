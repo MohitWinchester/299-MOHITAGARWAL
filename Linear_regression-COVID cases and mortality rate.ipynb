{
 "cells": [
  {
   "cell_type": "code",
   "execution_count": 2,
   "id": "1f6ea264",
   "metadata": {},
   "outputs": [],
   "source": [
    "import warnings\n",
    "warnings.simplefilter(\"ignore\")"
   ]
  },
  {
   "cell_type": "code",
   "execution_count": 9,
   "id": "cb331259",
   "metadata": {},
   "outputs": [],
   "source": [
    "import numpy as np\n",
    "import pandas as pd\n",
    "import matplotlib.pyplot as plt\n",
    "%matplotlib inline"
   ]
  },
  {
   "cell_type": "code",
   "execution_count": 6,
   "id": "c0dd569c",
   "metadata": {},
   "outputs": [
    {
     "data": {
      "text/html": [
       "<div>\n",
       "<style scoped>\n",
       "    .dataframe tbody tr th:only-of-type {\n",
       "        vertical-align: middle;\n",
       "    }\n",
       "\n",
       "    .dataframe tbody tr th {\n",
       "        vertical-align: top;\n",
       "    }\n",
       "\n",
       "    .dataframe thead th {\n",
       "        text-align: right;\n",
       "    }\n",
       "</style>\n",
       "<table border=\"1\" class=\"dataframe\">\n",
       "  <thead>\n",
       "    <tr style=\"text-align: right;\">\n",
       "      <th></th>\n",
       "      <th>Date.Day</th>\n",
       "      <th>Date.Month</th>\n",
       "      <th>Date.Year</th>\n",
       "      <th>Data.Cases</th>\n",
       "      <th>Data.Deaths</th>\n",
       "      <th>Location.Country</th>\n",
       "      <th>Location.Code</th>\n",
       "      <th>Data.Population</th>\n",
       "      <th>Location.Continent</th>\n",
       "      <th>Data.Rate</th>\n",
       "    </tr>\n",
       "  </thead>\n",
       "  <tbody>\n",
       "    <tr>\n",
       "      <th>0</th>\n",
       "      <td>5</td>\n",
       "      <td>11</td>\n",
       "      <td>2020</td>\n",
       "      <td>121</td>\n",
       "      <td>6</td>\n",
       "      <td>Afghanistan</td>\n",
       "      <td>AFG</td>\n",
       "      <td>38041757</td>\n",
       "      <td>Asia</td>\n",
       "      <td>3.745884</td>\n",
       "    </tr>\n",
       "    <tr>\n",
       "      <th>1</th>\n",
       "      <td>4</td>\n",
       "      <td>11</td>\n",
       "      <td>2020</td>\n",
       "      <td>86</td>\n",
       "      <td>4</td>\n",
       "      <td>Afghanistan</td>\n",
       "      <td>AFG</td>\n",
       "      <td>38041757</td>\n",
       "      <td>Asia</td>\n",
       "      <td>3.782685</td>\n",
       "    </tr>\n",
       "    <tr>\n",
       "      <th>2</th>\n",
       "      <td>3</td>\n",
       "      <td>11</td>\n",
       "      <td>2020</td>\n",
       "      <td>95</td>\n",
       "      <td>3</td>\n",
       "      <td>Afghanistan</td>\n",
       "      <td>AFG</td>\n",
       "      <td>38041757</td>\n",
       "      <td>Asia</td>\n",
       "      <td>3.787943</td>\n",
       "    </tr>\n",
       "    <tr>\n",
       "      <th>3</th>\n",
       "      <td>2</td>\n",
       "      <td>11</td>\n",
       "      <td>2020</td>\n",
       "      <td>132</td>\n",
       "      <td>5</td>\n",
       "      <td>Afghanistan</td>\n",
       "      <td>AFG</td>\n",
       "      <td>38041757</td>\n",
       "      <td>Asia</td>\n",
       "      <td>3.766913</td>\n",
       "    </tr>\n",
       "    <tr>\n",
       "      <th>4</th>\n",
       "      <td>1</td>\n",
       "      <td>11</td>\n",
       "      <td>2020</td>\n",
       "      <td>76</td>\n",
       "      <td>0</td>\n",
       "      <td>Afghanistan</td>\n",
       "      <td>AFG</td>\n",
       "      <td>38041757</td>\n",
       "      <td>Asia</td>\n",
       "      <td>3.575019</td>\n",
       "    </tr>\n",
       "  </tbody>\n",
       "</table>\n",
       "</div>"
      ],
      "text/plain": [
       "   Date.Day  Date.Month  Date.Year  Data.Cases  Data.Deaths Location.Country  \\\n",
       "0         5          11       2020         121            6      Afghanistan   \n",
       "1         4          11       2020          86            4      Afghanistan   \n",
       "2         3          11       2020          95            3      Afghanistan   \n",
       "3         2          11       2020         132            5      Afghanistan   \n",
       "4         1          11       2020          76            0      Afghanistan   \n",
       "\n",
       "  Location.Code  Data.Population Location.Continent  Data.Rate  \n",
       "0           AFG         38041757               Asia   3.745884  \n",
       "1           AFG         38041757               Asia   3.782685  \n",
       "2           AFG         38041757               Asia   3.787943  \n",
       "3           AFG         38041757               Asia   3.766913  \n",
       "4           AFG         38041757               Asia   3.575019  "
      ]
     },
     "execution_count": 6,
     "metadata": {},
     "output_type": "execute_result"
    }
   ],
   "source": [
    "dataset =pd.read_csv(\"covid.csv\")\n",
    "dataset.head()\n"
   ]
  },
  {
   "cell_type": "code",
   "execution_count": 7,
   "id": "9444e135",
   "metadata": {},
   "outputs": [
    {
     "data": {
      "text/plain": [
       "(53590, 10)"
      ]
     },
     "execution_count": 7,
     "metadata": {},
     "output_type": "execute_result"
    }
   ],
   "source": [
    "dataset.shape"
   ]
  },
  {
   "cell_type": "code",
   "execution_count": 8,
   "id": "e25b1d7a",
   "metadata": {
    "scrolled": true
   },
   "outputs": [
    {
     "data": {
      "text/html": [
       "<div>\n",
       "<style scoped>\n",
       "    .dataframe tbody tr th:only-of-type {\n",
       "        vertical-align: middle;\n",
       "    }\n",
       "\n",
       "    .dataframe tbody tr th {\n",
       "        vertical-align: top;\n",
       "    }\n",
       "\n",
       "    .dataframe thead th {\n",
       "        text-align: right;\n",
       "    }\n",
       "</style>\n",
       "<table border=\"1\" class=\"dataframe\">\n",
       "  <thead>\n",
       "    <tr style=\"text-align: right;\">\n",
       "      <th></th>\n",
       "      <th>Date.Day</th>\n",
       "      <th>Date.Month</th>\n",
       "      <th>Date.Year</th>\n",
       "      <th>Data.Cases</th>\n",
       "      <th>Data.Deaths</th>\n",
       "      <th>Location.Country</th>\n",
       "      <th>Location.Code</th>\n",
       "      <th>Data.Population</th>\n",
       "      <th>Location.Continent</th>\n",
       "      <th>Data.Rate</th>\n",
       "    </tr>\n",
       "  </thead>\n",
       "  <tbody>\n",
       "    <tr>\n",
       "      <th>0</th>\n",
       "      <td>5</td>\n",
       "      <td>11</td>\n",
       "      <td>2020</td>\n",
       "      <td>121</td>\n",
       "      <td>6</td>\n",
       "      <td>Afghanistan</td>\n",
       "      <td>AFG</td>\n",
       "      <td>38041757</td>\n",
       "      <td>Asia</td>\n",
       "      <td>3.745884</td>\n",
       "    </tr>\n",
       "    <tr>\n",
       "      <th>1</th>\n",
       "      <td>4</td>\n",
       "      <td>11</td>\n",
       "      <td>2020</td>\n",
       "      <td>86</td>\n",
       "      <td>4</td>\n",
       "      <td>Afghanistan</td>\n",
       "      <td>AFG</td>\n",
       "      <td>38041757</td>\n",
       "      <td>Asia</td>\n",
       "      <td>3.782685</td>\n",
       "    </tr>\n",
       "    <tr>\n",
       "      <th>2</th>\n",
       "      <td>3</td>\n",
       "      <td>11</td>\n",
       "      <td>2020</td>\n",
       "      <td>95</td>\n",
       "      <td>3</td>\n",
       "      <td>Afghanistan</td>\n",
       "      <td>AFG</td>\n",
       "      <td>38041757</td>\n",
       "      <td>Asia</td>\n",
       "      <td>3.787943</td>\n",
       "    </tr>\n",
       "    <tr>\n",
       "      <th>3</th>\n",
       "      <td>2</td>\n",
       "      <td>11</td>\n",
       "      <td>2020</td>\n",
       "      <td>132</td>\n",
       "      <td>5</td>\n",
       "      <td>Afghanistan</td>\n",
       "      <td>AFG</td>\n",
       "      <td>38041757</td>\n",
       "      <td>Asia</td>\n",
       "      <td>3.766913</td>\n",
       "    </tr>\n",
       "    <tr>\n",
       "      <th>4</th>\n",
       "      <td>1</td>\n",
       "      <td>11</td>\n",
       "      <td>2020</td>\n",
       "      <td>76</td>\n",
       "      <td>0</td>\n",
       "      <td>Afghanistan</td>\n",
       "      <td>AFG</td>\n",
       "      <td>38041757</td>\n",
       "      <td>Asia</td>\n",
       "      <td>3.575019</td>\n",
       "    </tr>\n",
       "    <tr>\n",
       "      <th>...</th>\n",
       "      <td>...</td>\n",
       "      <td>...</td>\n",
       "      <td>...</td>\n",
       "      <td>...</td>\n",
       "      <td>...</td>\n",
       "      <td>...</td>\n",
       "      <td>...</td>\n",
       "      <td>...</td>\n",
       "      <td>...</td>\n",
       "      <td>...</td>\n",
       "    </tr>\n",
       "    <tr>\n",
       "      <th>53585</th>\n",
       "      <td>25</td>\n",
       "      <td>3</td>\n",
       "      <td>2020</td>\n",
       "      <td>0</td>\n",
       "      <td>0</td>\n",
       "      <td>Zimbabwe</td>\n",
       "      <td>ZWE</td>\n",
       "      <td>14645473</td>\n",
       "      <td>Africa</td>\n",
       "      <td>0.000000</td>\n",
       "    </tr>\n",
       "    <tr>\n",
       "      <th>53586</th>\n",
       "      <td>24</td>\n",
       "      <td>3</td>\n",
       "      <td>2020</td>\n",
       "      <td>0</td>\n",
       "      <td>1</td>\n",
       "      <td>Zimbabwe</td>\n",
       "      <td>ZWE</td>\n",
       "      <td>14645473</td>\n",
       "      <td>Africa</td>\n",
       "      <td>0.000000</td>\n",
       "    </tr>\n",
       "    <tr>\n",
       "      <th>53587</th>\n",
       "      <td>23</td>\n",
       "      <td>3</td>\n",
       "      <td>2020</td>\n",
       "      <td>0</td>\n",
       "      <td>0</td>\n",
       "      <td>Zimbabwe</td>\n",
       "      <td>ZWE</td>\n",
       "      <td>14645473</td>\n",
       "      <td>Africa</td>\n",
       "      <td>0.000000</td>\n",
       "    </tr>\n",
       "    <tr>\n",
       "      <th>53588</th>\n",
       "      <td>22</td>\n",
       "      <td>3</td>\n",
       "      <td>2020</td>\n",
       "      <td>1</td>\n",
       "      <td>0</td>\n",
       "      <td>Zimbabwe</td>\n",
       "      <td>ZWE</td>\n",
       "      <td>14645473</td>\n",
       "      <td>Africa</td>\n",
       "      <td>0.000000</td>\n",
       "    </tr>\n",
       "    <tr>\n",
       "      <th>53589</th>\n",
       "      <td>21</td>\n",
       "      <td>3</td>\n",
       "      <td>2020</td>\n",
       "      <td>1</td>\n",
       "      <td>0</td>\n",
       "      <td>Zimbabwe</td>\n",
       "      <td>ZWE</td>\n",
       "      <td>14645473</td>\n",
       "      <td>Africa</td>\n",
       "      <td>0.000000</td>\n",
       "    </tr>\n",
       "  </tbody>\n",
       "</table>\n",
       "<p>53590 rows × 10 columns</p>\n",
       "</div>"
      ],
      "text/plain": [
       "       Date.Day  Date.Month  Date.Year  Data.Cases  Data.Deaths  \\\n",
       "0             5          11       2020         121            6   \n",
       "1             4          11       2020          86            4   \n",
       "2             3          11       2020          95            3   \n",
       "3             2          11       2020         132            5   \n",
       "4             1          11       2020          76            0   \n",
       "...         ...         ...        ...         ...          ...   \n",
       "53585        25           3       2020           0            0   \n",
       "53586        24           3       2020           0            1   \n",
       "53587        23           3       2020           0            0   \n",
       "53588        22           3       2020           1            0   \n",
       "53589        21           3       2020           1            0   \n",
       "\n",
       "      Location.Country Location.Code  Data.Population Location.Continent  \\\n",
       "0          Afghanistan           AFG         38041757               Asia   \n",
       "1          Afghanistan           AFG         38041757               Asia   \n",
       "2          Afghanistan           AFG         38041757               Asia   \n",
       "3          Afghanistan           AFG         38041757               Asia   \n",
       "4          Afghanistan           AFG         38041757               Asia   \n",
       "...                ...           ...              ...                ...   \n",
       "53585         Zimbabwe           ZWE         14645473             Africa   \n",
       "53586         Zimbabwe           ZWE         14645473             Africa   \n",
       "53587         Zimbabwe           ZWE         14645473             Africa   \n",
       "53588         Zimbabwe           ZWE         14645473             Africa   \n",
       "53589         Zimbabwe           ZWE         14645473             Africa   \n",
       "\n",
       "       Data.Rate  \n",
       "0       3.745884  \n",
       "1       3.782685  \n",
       "2       3.787943  \n",
       "3       3.766913  \n",
       "4       3.575019  \n",
       "...          ...  \n",
       "53585   0.000000  \n",
       "53586   0.000000  \n",
       "53587   0.000000  \n",
       "53588   0.000000  \n",
       "53589   0.000000  \n",
       "\n",
       "[53590 rows x 10 columns]"
      ]
     },
     "execution_count": 8,
     "metadata": {},
     "output_type": "execute_result"
    }
   ],
   "source": [
    "dataset"
   ]
  },
  {
   "cell_type": "code",
   "execution_count": 10,
   "id": "62378271",
   "metadata": {},
   "outputs": [
    {
     "data": {
      "image/png": "[encoded data removed]",
      "text/plain": [
       "<Figure size 432x288 with 1 Axes>"
      ]
     },
     "metadata": {
      "needs_background": "light"
     },
     "output_type": "display_data"
    }
   ],
   "source": [
    "dataset.plot(x='Data.Cases', y='Data.Deaths',style='o' )    \n",
    "plt.title('Data.Cases vs Data.Deaths')    \n",
    "plt.xlabel('Data.Cases')    \n",
    "plt.ylabel('Data.Deaths')    \n",
    "plt.show()\n"
   ]
  },
  {
   "cell_type": "code",
   "execution_count": 11,
   "id": "cc34e538",
   "metadata": {},
   "outputs": [
    {
     "data": {
      "image/png": "[encoded data removed]",
      "text/plain": [
       "<Figure size 432x288 with 1 Axes>"
      ]
     },
     "metadata": {
      "needs_background": "light"
     },
     "output_type": "display_data"
    }
   ],
   "source": [
    "dataset.plot(x='Data.Cases', y='Data.Rate',style='o' )    \n",
    "plt.title('Data.Cases vs Data.Rate')    \n",
    "plt.xlabel('Data.Cases')    \n",
    "plt.ylabel('Data.Rate')    \n",
    "plt.show()\n"
   ]
  },
  {
   "cell_type": "code",
   "execution_count": 12,
   "id": "931ac2f1",
   "metadata": {},
   "outputs": [],
   "source": [
    "new_set = dataset.drop([\"Date.Day\",\"Date.Month\",\"Date.Year\",\"Location.Country\",\"Location.Code\",\"Data.Population\",\"Location.Continent\"], axis=1)"
   ]
  },
  {
   "cell_type": "code",
   "execution_count": 13,
   "id": "9237f32f",
   "metadata": {},
   "outputs": [
    {
     "data": {
      "text/html": [
       "<div>\n",
       "<style scoped>\n",
       "    .dataframe tbody tr th:only-of-type {\n",
       "        vertical-align: middle;\n",
       "    }\n",
       "\n",
       "    .dataframe tbody tr th {\n",
       "        vertical-align: top;\n",
       "    }\n",
       "\n",
       "    .dataframe thead th {\n",
       "        text-align: right;\n",
       "    }\n",
       "</style>\n",
       "<table border=\"1\" class=\"dataframe\">\n",
       "  <thead>\n",
       "    <tr style=\"text-align: right;\">\n",
       "      <th></th>\n",
       "      <th>Data.Cases</th>\n",
       "      <th>Data.Deaths</th>\n",
       "      <th>Data.Rate</th>\n",
       "    </tr>\n",
       "  </thead>\n",
       "  <tbody>\n",
       "    <tr>\n",
       "      <th>0</th>\n",
       "      <td>121</td>\n",
       "      <td>6</td>\n",
       "      <td>3.745884</td>\n",
       "    </tr>\n",
       "    <tr>\n",
       "      <th>1</th>\n",
       "      <td>86</td>\n",
       "      <td>4</td>\n",
       "      <td>3.782685</td>\n",
       "    </tr>\n",
       "    <tr>\n",
       "      <th>2</th>\n",
       "      <td>95</td>\n",
       "      <td>3</td>\n",
       "      <td>3.787943</td>\n",
       "    </tr>\n",
       "    <tr>\n",
       "      <th>3</th>\n",
       "      <td>132</td>\n",
       "      <td>5</td>\n",
       "      <td>3.766913</td>\n",
       "    </tr>\n",
       "    <tr>\n",
       "      <th>4</th>\n",
       "      <td>76</td>\n",
       "      <td>0</td>\n",
       "      <td>3.575019</td>\n",
       "    </tr>\n",
       "    <tr>\n",
       "      <th>...</th>\n",
       "      <td>...</td>\n",
       "      <td>...</td>\n",
       "      <td>...</td>\n",
       "    </tr>\n",
       "    <tr>\n",
       "      <th>53585</th>\n",
       "      <td>0</td>\n",
       "      <td>0</td>\n",
       "      <td>0.000000</td>\n",
       "    </tr>\n",
       "    <tr>\n",
       "      <th>53586</th>\n",
       "      <td>0</td>\n",
       "      <td>1</td>\n",
       "      <td>0.000000</td>\n",
       "    </tr>\n",
       "    <tr>\n",
       "      <th>53587</th>\n",
       "      <td>0</td>\n",
       "      <td>0</td>\n",
       "      <td>0.000000</td>\n",
       "    </tr>\n",
       "    <tr>\n",
       "      <th>53588</th>\n",
       "      <td>1</td>\n",
       "      <td>0</td>\n",
       "      <td>0.000000</td>\n",
       "    </tr>\n",
       "    <tr>\n",
       "      <th>53589</th>\n",
       "      <td>1</td>\n",
       "      <td>0</td>\n",
       "      <td>0.000000</td>\n",
       "    </tr>\n",
       "  </tbody>\n",
       "</table>\n",
       "<p>53590 rows × 3 columns</p>\n",
       "</div>"
      ],
      "text/plain": [
       "       Data.Cases  Data.Deaths  Data.Rate\n",
       "0             121            6   3.745884\n",
       "1              86            4   3.782685\n",
       "2              95            3   3.787943\n",
       "3             132            5   3.766913\n",
       "4              76            0   3.575019\n",
       "...           ...          ...        ...\n",
       "53585           0            0   0.000000\n",
       "53586           0            1   0.000000\n",
       "53587           0            0   0.000000\n",
       "53588           1            0   0.000000\n",
       "53589           1            0   0.000000\n",
       "\n",
       "[53590 rows x 3 columns]"
      ]
     },
     "execution_count": 13,
     "metadata": {},
     "output_type": "execute_result"
    }
   ],
   "source": [
    "new_set"
   ]
  },
  {
   "cell_type": "code",
   "execution_count": 14,
   "id": "7758580e",
   "metadata": {},
   "outputs": [
    {
     "data": {
      "text/html": [
       "<div>\n",
       "<style scoped>\n",
       "    .dataframe tbody tr th:only-of-type {\n",
       "        vertical-align: middle;\n",
       "    }\n",
       "\n",
       "    .dataframe tbody tr th {\n",
       "        vertical-align: top;\n",
       "    }\n",
       "\n",
       "    .dataframe thead th {\n",
       "        text-align: right;\n",
       "    }\n",
       "</style>\n",
       "<table border=\"1\" class=\"dataframe\">\n",
       "  <thead>\n",
       "    <tr style=\"text-align: right;\">\n",
       "      <th></th>\n",
       "      <th>Data.Cases</th>\n",
       "      <th>Data.Deaths</th>\n",
       "      <th>Data.Rate</th>\n",
       "    </tr>\n",
       "  </thead>\n",
       "  <tbody>\n",
       "    <tr>\n",
       "      <th>0</th>\n",
       "      <td>121</td>\n",
       "      <td>6</td>\n",
       "      <td>3.745884</td>\n",
       "    </tr>\n",
       "    <tr>\n",
       "      <th>1</th>\n",
       "      <td>86</td>\n",
       "      <td>4</td>\n",
       "      <td>3.782685</td>\n",
       "    </tr>\n",
       "    <tr>\n",
       "      <th>2</th>\n",
       "      <td>95</td>\n",
       "      <td>3</td>\n",
       "      <td>3.787943</td>\n",
       "    </tr>\n",
       "    <tr>\n",
       "      <th>3</th>\n",
       "      <td>132</td>\n",
       "      <td>5</td>\n",
       "      <td>3.766913</td>\n",
       "    </tr>\n",
       "    <tr>\n",
       "      <th>4</th>\n",
       "      <td>76</td>\n",
       "      <td>0</td>\n",
       "      <td>3.575019</td>\n",
       "    </tr>\n",
       "  </tbody>\n",
       "</table>\n",
       "</div>"
      ],
      "text/plain": [
       "   Data.Cases  Data.Deaths  Data.Rate\n",
       "0         121            6   3.745884\n",
       "1          86            4   3.782685\n",
       "2          95            3   3.787943\n",
       "3         132            5   3.766913\n",
       "4          76            0   3.575019"
      ]
     },
     "execution_count": 14,
     "metadata": {},
     "output_type": "execute_result"
    }
   ],
   "source": [
    "new_set.head()"
   ]
  },
  {
   "cell_type": "code",
   "execution_count": 15,
   "id": "e12b1a43",
   "metadata": {},
   "outputs": [],
   "source": [
    "x=new_set.iloc[:,0]\n"
   ]
  },
  {
   "cell_type": "code",
   "execution_count": 16,
   "id": "7a3a6f09",
   "metadata": {},
   "outputs": [
    {
     "data": {
      "text/plain": [
       "(53590,)"
      ]
     },
     "execution_count": 16,
     "metadata": {},
     "output_type": "execute_result"
    }
   ],
   "source": [
    "x.shape"
   ]
  },
  {
   "cell_type": "code",
   "execution_count": 17,
   "id": "bab52425",
   "metadata": {},
   "outputs": [],
   "source": [
    "x=new_set.iloc[:,0].values.reshape(-1,1)"
   ]
  },
  {
   "cell_type": "code",
   "execution_count": 18,
   "id": "b722f40a",
   "metadata": {},
   "outputs": [
    {
     "data": {
      "text/plain": [
       "(53590, 1)"
      ]
     },
     "execution_count": 18,
     "metadata": {},
     "output_type": "execute_result"
    }
   ],
   "source": [
    "x.shape\n"
   ]
  },
  {
   "cell_type": "code",
   "execution_count": 19,
   "id": "dc11e8b1",
   "metadata": {},
   "outputs": [
    {
     "data": {
      "text/plain": [
       "array([[121],\n",
       "       [ 86],\n",
       "       [ 95],\n",
       "       ...,\n",
       "       [  0],\n",
       "       [  1],\n",
       "       [  1]], dtype=int64)"
      ]
     },
     "execution_count": 19,
     "metadata": {},
     "output_type": "execute_result"
    }
   ],
   "source": [
    "x"
   ]
  },
  {
   "cell_type": "code",
   "execution_count": 20,
   "id": "d5c5c902",
   "metadata": {},
   "outputs": [],
   "source": [
    "y = new_set.iloc[:,1]"
   ]
  },
  {
   "cell_type": "code",
   "execution_count": 21,
   "id": "d7edcd28",
   "metadata": {},
   "outputs": [
    {
     "data": {
      "text/plain": [
       "(53590,)"
      ]
     },
     "execution_count": 21,
     "metadata": {},
     "output_type": "execute_result"
    }
   ],
   "source": [
    "y.shape"
   ]
  },
  {
   "cell_type": "code",
   "execution_count": 22,
   "id": "c809f53d",
   "metadata": {},
   "outputs": [],
   "source": [
    "y=new_set.iloc[:,1].values.reshape(-1,1)"
   ]
  },
  {
   "cell_type": "code",
   "execution_count": 23,
   "id": "56035bcc",
   "metadata": {},
   "outputs": [
    {
     "data": {
      "text/plain": [
       "array([[6],\n",
       "       [4],\n",
       "       [3],\n",
       "       ...,\n",
       "       [0],\n",
       "       [0],\n",
       "       [0]], dtype=int64)"
      ]
     },
     "execution_count": 23,
     "metadata": {},
     "output_type": "execute_result"
    }
   ],
   "source": [
    "y"
   ]
  },
  {
   "cell_type": "code",
   "execution_count": 24,
   "id": "721bbebb",
   "metadata": {},
   "outputs": [
    {
     "data": {
      "text/plain": [
       "<matplotlib.collections.PathCollection at 0x22935b48790>"
      ]
     },
     "execution_count": 24,
     "metadata": {},
     "output_type": "execute_result"
    },
    {
     "data": {
      "image/png": "[encoded data removed]",
      "text/plain": [
       "<Figure size 432x288 with 1 Axes>"
      ]
     },
     "metadata": {
      "needs_background": "light"
     },
     "output_type": "display_data"
    }
   ],
   "source": [
    "plt.scatter(x,y)"
   ]
  },
  {
   "cell_type": "code",
   "execution_count": 25,
   "id": "045ca53b",
   "metadata": {},
   "outputs": [],
   "source": [
    "from sklearn.model_selection import train_test_split"
   ]
  },
  {
   "cell_type": "code",
   "execution_count": 26,
   "id": "48fe6f12",
   "metadata": {},
   "outputs": [],
   "source": [
    "x_train,x_test,y_train,y_test=train_test_split(x,y,test_size=0.2,random_state=0)"
   ]
  },
  {
   "cell_type": "code",
   "execution_count": 27,
   "id": "3c1aca3a",
   "metadata": {},
   "outputs": [
    {
     "data": {
      "text/plain": [
       "(42872, 1)"
      ]
     },
     "execution_count": 27,
     "metadata": {},
     "output_type": "execute_result"
    }
   ],
   "source": [
    "x_train.shape\n"
   ]
  },
  {
   "cell_type": "code",
   "execution_count": 28,
   "id": "b9a4981e",
   "metadata": {},
   "outputs": [
    {
     "data": {
      "text/plain": [
       "(10718, 1)"
      ]
     },
     "execution_count": 28,
     "metadata": {},
     "output_type": "execute_result"
    }
   ],
   "source": [
    "x_test.shape\n"
   ]
  },
  {
   "cell_type": "code",
   "execution_count": 29,
   "id": "fd9b83d3",
   "metadata": {},
   "outputs": [
    {
     "data": {
      "text/plain": [
       "(42872, 1)"
      ]
     },
     "execution_count": 29,
     "metadata": {},
     "output_type": "execute_result"
    }
   ],
   "source": [
    "y_train.shape"
   ]
  },
  {
   "cell_type": "code",
   "execution_count": 30,
   "id": "94f3ec4a",
   "metadata": {},
   "outputs": [
    {
     "data": {
      "text/plain": [
       "(10718, 1)"
      ]
     },
     "execution_count": 30,
     "metadata": {},
     "output_type": "execute_result"
    }
   ],
   "source": [
    "y_test.shape"
   ]
  },
  {
   "cell_type": "code",
   "execution_count": 31,
   "id": "f9341554",
   "metadata": {},
   "outputs": [],
   "source": [
    "from sklearn.linear_model import LinearRegression"
   ]
  },
  {
   "cell_type": "code",
   "execution_count": 33,
   "id": "27fc96e3",
   "metadata": {},
   "outputs": [
    {
     "data": {
      "text/plain": [
       "LinearRegression()"
      ]
     },
     "execution_count": 33,
     "metadata": {},
     "output_type": "execute_result"
    }
   ],
   "source": [
    "lr = LinearRegression()\n",
    "lr.fit(x_train,y_train)"
   ]
  },
  {
   "cell_type": "code",
   "execution_count": 34,
   "id": "a64ef26e",
   "metadata": {},
   "outputs": [],
   "source": [
    "y_pred=lr.predict(x_test)"
   ]
  },
  {
   "cell_type": "code",
   "execution_count": 55,
   "id": "ef90e285",
   "metadata": {},
   "outputs": [
    {
     "data": {
      "text/plain": [
       "array([[52.2440661 ],\n",
       "       [60.38065471],\n",
       "       [60.18871467],\n",
       "       [55.40690413],\n",
       "       [58.87017005],\n",
       "       [56.88400791],\n",
       "       [52.2440661 ],\n",
       "       [49.87402388],\n",
       "       [59.60454933],\n",
       "       [55.92430772],\n",
       "       [50.20783264],\n",
       "       [50.04927348],\n",
       "       [51.38450854],\n",
       "       [53.5125394 ],\n",
       "       [49.41503683],\n",
       "       [49.7488456 ],\n",
       "       [49.38165596],\n",
       "       [59.60454933],\n",
       "       [58.25262384],\n",
       "       [60.38065471],\n",
       "       [50.89214061],\n",
       "       [58.87017005],\n",
       "       [50.59171272],\n",
       "       [60.38065471],\n",
       "       [51.39285375],\n",
       "       [58.87017005],\n",
       "       [48.59720536],\n",
       "       [48.78080018],\n",
       "       [58.25262384],\n",
       "       [55.92430772],\n",
       "       [53.23714717],\n",
       "       [51.92694778],\n",
       "       [49.03950197],\n",
       "       [50.21617786],\n",
       "       [51.92694778],\n",
       "       [50.95890236],\n",
       "       [55.06475015],\n",
       "       [57.26788799],\n",
       "       [51.74335296],\n",
       "       [48.964395  ],\n",
       "       [51.66824598],\n",
       "       [48.30512269],\n",
       "       [61.00654614],\n",
       "       [57.69349416],\n",
       "       [49.06453763],\n",
       "       [48.48871751],\n",
       "       [52.49442267],\n",
       "       [58.75333699],\n",
       "       [55.92430772],\n",
       "       [57.26788799],\n",
       "       [60.18871467],\n",
       "       [55.92430772],\n",
       "       [48.7891454 ],\n",
       "       [56.3999852 ],\n",
       "       [54.79770314],\n",
       "       [49.7071195 ],\n",
       "       [54.79770314],\n",
       "       [49.84064301],\n",
       "       [48.83921672],\n",
       "       [51.18422328],\n",
       "       [51.21760415],\n",
       "       [50.7586171 ],\n",
       "       [50.42480834],\n",
       "       [59.60454933],\n",
       "       [51.66824598],\n",
       "       [53.23714717],\n",
       "       [48.87259759],\n",
       "       [50.65012926],\n",
       "       [50.61674838],\n",
       "       [50.8003432 ],\n",
       "       [61.21517662],\n",
       "       [52.37758961],\n",
       "       [53.23714717],\n",
       "       [50.54998663],\n",
       "       [53.23714717],\n",
       "       [51.55975814],\n",
       "       [48.25505138],\n",
       "       [53.88807426],\n",
       "       [50.70020057],\n",
       "       [52.2440661 ],\n",
       "       [58.87017005],\n",
       "       [51.66824598],\n",
       "       [49.85733344],\n",
       "       [49.69877428],\n",
       "       [55.40690413],\n",
       "       [49.7071195 ],\n",
       "       [51.13415196],\n",
       "       [61.21517662],\n",
       "       [50.24955874],\n",
       "       [58.87017005],\n",
       "       [56.88400791],\n",
       "       [57.15105492],\n",
       "       [53.88807426],\n",
       "       [48.69734799],\n",
       "       [49.49848902],\n",
       "       [59.60454933],\n",
       "       [53.23714717],\n",
       "       [50.7586171 ],\n",
       "       [51.55975814],\n",
       "       [51.87687646],\n",
       "       [54.53065613],\n",
       "       [51.87687646],\n",
       "       [49.83229779],\n",
       "       [52.99513582],\n",
       "       [58.87017005],\n",
       "       [60.18871467],\n",
       "       [58.25262384],\n",
       "       [50.67516491],\n",
       "       [49.27316811],\n",
       "       [49.38165596],\n",
       "       [61.21517662],\n",
       "       [50.15776133],\n",
       "       [52.75312447],\n",
       "       [56.3999852 ],\n",
       "       [55.06475015],\n",
       "       [54.53065613],\n",
       "       [48.75576452],\n",
       "       [50.10769002],\n",
       "       [53.23714717],\n",
       "       [49.77388125],\n",
       "       [61.00654614],\n",
       "       [51.38450854],\n",
       "       [49.54856034],\n",
       "       [61.21517662],\n",
       "       [49.30654898],\n",
       "       [50.98393802],\n",
       "       [51.03400933],\n",
       "       [52.75312447],\n",
       "       [50.76696232],\n",
       "       [49.30654898],\n",
       "       [50.2328683 ],\n",
       "       [58.87017005],\n",
       "       [52.18564957],\n",
       "       [50.45818922],\n",
       "       [52.04378084],\n",
       "       [49.8823691 ],\n",
       "       [57.26788799],\n",
       "       [49.4901438 ],\n",
       "       [51.18422328],\n",
       "       [57.26788799],\n",
       "       [50.10769002],\n",
       "       [52.2440661 ],\n",
       "       [60.38065471],\n",
       "       [53.687789  ],\n",
       "       [49.72380994],\n",
       "       [61.21517662],\n",
       "       [61.00654614],\n",
       "       [58.25262384],\n",
       "       [51.39285375],\n",
       "       [61.00654614],\n",
       "       [51.18422328],\n",
       "       [56.27480692],\n",
       "       [50.89214061],\n",
       "       [52.18564957],\n",
       "       [61.21517662],\n",
       "       [60.38065471],\n",
       "       [52.49442267],\n",
       "       [51.38450854],\n",
       "       [48.18828963],\n",
       "       [48.48871751],\n",
       "       [52.2440661 ],\n",
       "       [55.92430772],\n",
       "       [54.79770314],\n",
       "       [61.21517662],\n",
       "       [51.18422328],\n",
       "       [60.38065471],\n",
       "       [48.35519401],\n",
       "       [50.7586171 ],\n",
       "       [53.23714717],\n",
       "       [50.10769002],\n",
       "       [52.75312447],\n",
       "       [56.3999852 ],\n",
       "       [58.25262384],\n",
       "       [54.2552639 ],\n",
       "       [50.31632049],\n",
       "       [48.53878883],\n",
       "       [50.4081179 ],\n",
       "       [60.38065471],\n",
       "       [49.03115675],\n",
       "       [58.87017005],\n",
       "       [50.10769002],\n",
       "       [52.2440661 ],\n",
       "       [48.91432369],\n",
       "       [50.24955874],\n",
       "       [51.38450854],\n",
       "       [58.25262384],\n",
       "       [50.12438045],\n",
       "       [53.88807426],\n",
       "       [50.99228324],\n",
       "       [50.86710495],\n",
       "       [48.68900277],\n",
       "       [59.60454933],\n",
       "       [53.88807426],\n",
       "       [52.04378084],\n",
       "       [58.87017005],\n",
       "       [51.87687646],\n",
       "       [50.70020057],\n",
       "       [61.00654614],\n",
       "       [60.38065471],\n",
       "       [50.70020057],\n",
       "       [49.50683424],\n",
       "       [51.20925893],\n",
       "       [51.51803204],\n",
       "       [48.6556219 ],\n",
       "       [57.78529157],\n",
       "       [54.79770314],\n",
       "       [55.05640493],\n",
       "       [50.60840316],\n",
       "       [51.65990077],\n",
       "       [60.18871467],\n",
       "       [48.46368186],\n",
       "       [59.60454933],\n",
       "       [61.21517662],\n",
       "       [55.40690413],\n",
       "       [58.87017005],\n",
       "       [48.53878883],\n",
       "       [50.59171272],\n",
       "       [48.44699142],\n",
       "       [48.92266891],\n",
       "       [49.80726213],\n",
       "       [50.92552149],\n",
       "       [60.18871467],\n",
       "       [50.70020057],\n",
       "       [54.79770314],\n",
       "       [61.21517662],\n",
       "       [49.37331074],\n",
       "       [59.60454933],\n",
       "       [51.21760415],\n",
       "       [55.40690413],\n",
       "       [56.88400791],\n",
       "       [51.92694778],\n",
       "       [49.24813245],\n",
       "       [60.38065471],\n",
       "       [51.42623463],\n",
       "       [52.2440661 ],\n",
       "       [51.03400933],\n",
       "       [57.78529157],\n",
       "       [48.41361054],\n",
       "       [58.87017005],\n",
       "       [57.78529157],\n",
       "       [58.25262384],\n",
       "       [50.00754739],\n",
       "       [48.74741931],\n",
       "       [49.25647767],\n",
       "       [54.53065613],\n",
       "       [51.92694778],\n",
       "       [59.60454933],\n",
       "       [48.23836094],\n",
       "       [57.78529157],\n",
       "       [61.21517662],\n",
       "       [61.21517662],\n",
       "       [48.69734799],\n",
       "       [60.38065471],\n",
       "       [56.88400791],\n",
       "       [61.21517662],\n",
       "       [51.10911631],\n",
       "       [51.55975814],\n",
       "       [52.75312447],\n",
       "       [60.38065471],\n",
       "       [48.2216705 ],\n",
       "       [57.26788799],\n",
       "       [48.97274022],\n",
       "       [55.40690413],\n",
       "       [60.38065471],\n",
       "       [51.66824598],\n",
       "       [50.10769002],\n",
       "       [56.3999852 ],\n",
       "       [56.88400791],\n",
       "       [51.10911631],\n",
       "       [55.06475015],\n",
       "       [58.75333699],\n",
       "       [50.7586171 ],\n",
       "       [55.40690413],\n",
       "       [61.00654614],\n",
       "       [57.26788799],\n",
       "       [50.19114221],\n",
       "       [53.23714717],\n",
       "       [54.53065613],\n",
       "       [48.80583584],\n",
       "       [52.18564957],\n",
       "       [60.38065471],\n",
       "       [50.86710495],\n",
       "       [49.02281154],\n",
       "       [48.2633966 ],\n",
       "       [60.18871467],\n",
       "       [59.47102583],\n",
       "       [49.02281154],\n",
       "       [53.23714717],\n",
       "       [49.77388125],\n",
       "       [49.59863165],\n",
       "       [49.60697687],\n",
       "       [57.78529157],\n",
       "       [50.77530754],\n",
       "       [50.04927348],\n",
       "       [49.86567866],\n",
       "       [49.12295416],\n",
       "       [51.10911631],\n",
       "       [57.26788799],\n",
       "       [51.25098503],\n",
       "       [48.5721697 ],\n",
       "       [49.07288285],\n",
       "       [58.87017005],\n",
       "       [61.21517662],\n",
       "       [50.64178404],\n",
       "       [48.98943066],\n",
       "       [49.94913085],\n",
       "       [61.21517662],\n",
       "       [58.87017005],\n",
       "       [48.68900277],\n",
       "       [57.78529157],\n",
       "       [54.79770314],\n",
       "       [49.60697687],\n",
       "       [55.06475015],\n",
       "       [59.60454933],\n",
       "       [50.00754739],\n",
       "       [57.26788799],\n",
       "       [50.10769002],\n",
       "       [52.04378084],\n",
       "       [55.06475015],\n",
       "       [55.92430772],\n",
       "       [55.92430772],\n",
       "       [55.40690413],\n",
       "       [55.92430772],\n",
       "       [58.75333699],\n",
       "       [56.88400791],\n",
       "       [55.40690413],\n",
       "       [49.25647767],\n",
       "       [48.32181313],\n",
       "       [59.60454933],\n",
       "       [50.46653444],\n",
       "       [56.27480692],\n",
       "       [59.47102583],\n",
       "       [54.2552639 ],\n",
       "       [50.75027189],\n",
       "       [61.00654614],\n",
       "       [58.25262384],\n",
       "       [50.89214061],\n",
       "       [55.06475015],\n",
       "       [58.25262384],\n",
       "       [55.40690413],\n",
       "       [50.24955874],\n",
       "       [50.74192667],\n",
       "       [49.33158464],\n",
       "       [49.48179858],\n",
       "       [59.60454933],\n",
       "       [51.30105634],\n",
       "       [56.88400791],\n",
       "       [56.3999852 ],\n",
       "       [61.00654614],\n",
       "       [52.75312447],\n",
       "       [52.99513582],\n",
       "       [50.15776133],\n",
       "       [50.90883105],\n",
       "       [51.55975814],\n",
       "       [53.687789  ],\n",
       "       [50.99228324],\n",
       "       [58.87017005],\n",
       "       [54.2552639 ],\n",
       "       [50.95890236],\n",
       "       [51.18422328],\n",
       "       [49.06453763],\n",
       "       [51.18422328],\n",
       "       [50.10769002],\n",
       "       [58.25262384],\n",
       "       [50.34970137],\n",
       "       [60.38065471],\n",
       "       [50.00754739],\n",
       "       [49.37331074],\n",
       "       [53.687789  ],\n",
       "       [50.95890236],\n",
       "       [52.75312447],\n",
       "       [60.38065471],\n",
       "       [61.21517662],\n",
       "       [52.99513582],\n",
       "       [48.34684879],\n",
       "       [57.26788799],\n",
       "       [50.00754739],\n",
       "       [52.75312447],\n",
       "       [48.98943066],\n",
       "       [48.53044361],\n",
       "       [52.2440661 ],\n",
       "       [49.90740476],\n",
       "       [48.19663485],\n",
       "       [57.78529157],\n",
       "       [50.85875973],\n",
       "       [53.687789  ],\n",
       "       [54.2552639 ],\n",
       "       [48.73072887],\n",
       "       [48.27174182],\n",
       "       [60.38065471],\n",
       "       [55.40690413],\n",
       "       [53.687789  ],\n",
       "       [49.14798982],\n",
       "       [49.12295416],\n",
       "       [49.86567866],\n",
       "       [49.41503683],\n",
       "       [52.37758961],\n",
       "       [58.25262384],\n",
       "       [48.17159919],\n",
       "       [56.3999852 ],\n",
       "       [53.88807426],\n",
       "       [57.78529157],\n",
       "       [55.92430772],\n",
       "       [55.8742364 ],\n",
       "       [58.19420731],\n",
       "       [52.49442267],\n",
       "       [48.37188445],\n",
       "       [54.2552639 ],\n",
       "       [49.23978723],\n",
       "       [50.61674838],\n",
       "       [49.43172727],\n",
       "       [56.27480692],\n",
       "       [55.40690413],\n",
       "       [48.83921672],\n",
       "       [48.2216705 ],\n",
       "       [51.28436591],\n",
       "       [50.28293962],\n",
       "       [54.2552639 ],\n",
       "       [50.04927348],\n",
       "       [50.95055714],\n",
       "       [57.26788799],\n",
       "       [59.60454933],\n",
       "       [48.80583584],\n",
       "       [50.10769002],\n",
       "       [48.42195576],\n",
       "       [59.60454933],\n",
       "       [54.79770314],\n",
       "       [59.47102583],\n",
       "       [50.00754739],\n",
       "       [49.33158464],\n",
       "       [51.10911631],\n",
       "       [49.67373862],\n",
       "       [58.87017005],\n",
       "       [58.87017005],\n",
       "       [54.53065613],\n",
       "       [52.99513582],\n",
       "       [57.78529157],\n",
       "       [53.23714717],\n",
       "       [56.3999852 ],\n",
       "       [58.25262384],\n",
       "       [48.47202708],\n",
       "       [61.21517662],\n",
       "       [61.21517662],\n",
       "       [51.87687646],\n",
       "       [50.61674838],\n",
       "       [48.83921672],\n",
       "       [54.53065613],\n",
       "       [52.49442267],\n",
       "       [57.26788799],\n",
       "       [57.26788799],\n",
       "       [51.92694778],\n",
       "       [51.92694778],\n",
       "       [48.50540795],\n",
       "       [60.38065471],\n",
       "       [59.60454933],\n",
       "       [50.95890236],\n",
       "       [61.00654614],\n",
       "       [48.18828963],\n",
       "       [50.10769002],\n",
       "       [49.23144201],\n",
       "       [50.61674838],\n",
       "       [59.60454933],\n",
       "       [61.21517662],\n",
       "       [57.78529157],\n",
       "       [49.50683424],\n",
       "       [58.87017005],\n",
       "       [60.38065471],\n",
       "       [50.9338667 ],\n",
       "       [51.48465116],\n",
       "       [58.87017005],\n",
       "       [49.63201253],\n",
       "       [50.00754739],\n",
       "       [61.00654614],\n",
       "       [53.88807426],\n",
       "       [52.49442267],\n",
       "       [49.13129938],\n",
       "       [50.59171272],\n",
       "       [50.11603523],\n",
       "       [53.88807426],\n",
       "       [50.49991531],\n",
       "       [48.6138958 ],\n",
       "       [48.6556219 ],\n",
       "       [49.68208384],\n",
       "       [57.26788799],\n",
       "       [50.95890236],\n",
       "       [50.10769002],\n",
       "       [56.3999852 ],\n",
       "       [56.88400791],\n",
       "       [61.21517662],\n",
       "       [56.27480692],\n",
       "       [49.50683424],\n",
       "       [58.87017005],\n",
       "       [52.2440661 ],\n",
       "       [60.38065471],\n",
       "       [52.99513582],\n",
       "       [54.79770314],\n",
       "       [49.18971592],\n",
       "       [53.88807426],\n",
       "       [61.21517662],\n",
       "       [52.99513582],\n",
       "       [51.45961551],\n",
       "       [48.83921672],\n",
       "       [48.27174182],\n",
       "       [50.24955874],\n",
       "       [50.10769002],\n",
       "       [51.28436591],\n",
       "       [50.44149878],\n",
       "       [48.56382449],\n",
       "       [52.2440661 ],\n",
       "       [58.25262384],\n",
       "       [49.41503683],\n",
       "       [53.687789  ],\n",
       "       [53.687789  ],\n",
       "       [51.66824598],\n",
       "       [55.06475015],\n",
       "       [49.30654898],\n",
       "       [51.0173189 ],\n",
       "       [49.7071195 ],\n",
       "       [54.2552639 ],\n",
       "       [51.21760415],\n",
       "       [53.88807426],\n",
       "       [49.37331074],\n",
       "       [49.47345337]])"
      ]
     },
     "execution_count": 55,
     "metadata": {},
     "output_type": "execute_result"
    }
   ],
   "source": [
    "y_pred"
   ]
  },
  {
   "cell_type": "code",
   "execution_count": 35,
   "id": "be2a95f2",
   "metadata": {},
   "outputs": [
    {
     "data": {
      "text/plain": [
       "[<matplotlib.lines.Line2D at 0x22934418ee0>]"
      ]
     },
     "execution_count": 35,
     "metadata": {},
     "output_type": "execute_result"
    },
    {
     "data": {
      "image/png": "[encoded data removed]",
      "text/plain": [
       "<Figure size 432x288 with 1 Axes>"
      ]
     },
     "metadata": {
      "needs_background": "light"
     },
     "output_type": "display_data"
    }
   ],
   "source": [
    "plt.scatter(x,y, color = 'yellow')\n",
    "plt.plot(x_test,y_pred, color = 'blue')"
   ]
  },
  {
   "cell_type": "code",
   "execution_count": null,
   "id": "6eca1186",
   "metadata": {},
   "outputs": [],
   "source": []
  }
 ],
 "metadata": {
  "kernelspec": {
   "display_name": "Python 3",
   "language": "python",
   "name": "python3"
  },
  "language_info": {
   "codemirror_mode": {
    "name": "ipython",
    "version": 3
   },
   "file_extension": ".py",
   "mimetype": "text/x-python",
   "name": "python",
   "nbconvert_exporter": "python",
   "pygments_lexer": "ipython3",
   "version": "3.8.8"
  }
 },
 "nbformat": 4,
 "nbformat_minor": 5
}
